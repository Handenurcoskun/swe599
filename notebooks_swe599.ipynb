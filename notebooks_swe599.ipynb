{
  "metadata": {
    "kernelspec": {
      "name": "python",
      "display_name": "Python (Pyodide)",
      "language": "python"
    },
    "language_info": {
      "codemirror_mode": {
        "name": "python",
        "version": 3
      },
      "file_extension": ".py",
      "mimetype": "text/x-python",
      "name": "python",
      "nbconvert_exporter": "python",
      "pygments_lexer": "ipython3",
      "version": "3.8"
    }
  },
  "nbformat_minor": 5,
  "nbformat": 4,
  "cells": [
    {
      "cell_type": "markdown",
      "source": "3.2. Textual Analysis",
      "metadata": {
        "jp-MarkdownHeadingCollapsed": true
      },
      "id": "b9670d85-ef29-4dfd-b4b5-e76d279c1f1a"
    },
    {
      "cell_type": "code",
      "source": "# Gerekli kütüphaneleri yükleme\nimport pandas as pd\nfrom textblob import TextBlob\nfrom sklearn.feature_extraction.text import CountVectorizer\nfrom sklearn.model_selection import train_test_split\nfrom sklearn.linear_model import LogisticRegression\nfrom sklearn.metrics import classification_report\n\n# Veri setini yükleme\ndata = pd.read_csv('veri_seti.csv')\n\n# Metin önişleme\ndef preprocess_text(text):\n    # Metni küçük harflere çevirme\n    text = text.lower()\n    # Özel karakterleri ve noktalama işaretlerini kaldırma\n    text = text.replace(\"'\", \"\")\n    text = text.replace(\".\", \"\")\n    text = text.replace(\",\", \"\")\n    return text\n\n# Metin verilerini önişleme\ndata['preprocessed_text'] = data['text'].apply(preprocess_text)\n\n# Duygu analizi yapma\ndef analyze_sentiment(text):\n    blob = TextBlob(text)\n    sentiment = blob.sentiment.polarity\n    if sentiment > 0:\n        return 'positive'\n    elif sentiment < 0:\n        return 'negative'\n    else:\n        return 'neutral'\n\n# Metin verilerini duygu analizine tabi tutma\ndata['sentiment'] = data['preprocessed_text'].apply(analyze_sentiment)\n\n# Metin verilerini özelliklere dönüştürme\nvectorizer = CountVectorizer()\nfeatures = vectorizer.fit_transform(data['preprocessed_text'])\n\n# Eğitim ve test verilerini ayırma\nX_train, X_test, y_train, y_test = train_test_split(features, data['sentiment'], test_size=0.2, random_state=42)\n\n# Sınıflandırma modelini eğitme\nmodel = LogisticRegression()\nmodel.fit(X_train, y_train)\n\n# Test verilerini kullanarak tahmin yapma\ny_pred = model.predict(X_test)\n\n# Sınıflandırma raporunu gösterme\nprint(classification_report(y_test, y_pred))\n",
      "metadata": {},
      "execution_count": null,
      "outputs": [],
      "id": "63c54afc-77d9-43c9-b46d-ee0a89b5122d"
    },
    {
      "cell_type": "markdown",
      "source": "3.3. Visual and Video Analysis",
      "metadata": {},
      "id": "0b99d93b-2780-43a1-b27d-69ba52bf8362"
    },
    {
      "cell_type": "code",
      "source": "# Gerekli kütüphaneleri yükleme\nimport pandas as pd\nimport cv2\nimport numpy as np\nfrom keras.preprocessing import image\nfrom keras.applications.vgg16 import preprocess_input\nfrom keras.applications.vgg16 import VGG16\nfrom keras.models import Model\n\n# Veri setini yükleme\ndata = pd.read_csv('veri_seti.csv')\n\n# Resim verilerini yükleme ve önişleme\ndef load_and_preprocess_image(path):\n    img = image.load_img(path, target_size=(224, 224))\n    img = image.img_to_array(img)\n    img = np.expand_dims(img, axis=0)\n    img = preprocess_input(img)\n    return img\n\n# Resim verilerini özelliklere dönüştürme\ndef extract_image_features(img):\n    model = VGG16(weights='imagenet', include_top=False)\n    model = Model(inputs=model.input, outputs=model.get_layer('block4_pool').output)\n    features = model.predict(img)\n    features = features.flatten()\n    return features\n\n# Veri setindeki resimlerin özelliklerini çıkarma\nimage_features = []\nfor path in data['image_paths']:\n    img = load_and_preprocess_image(path)\n    features = extract_image_features(img)\n    image_features.append(features)\n\n# Video verilerini yükleme ve önişleme\ndef load_and_preprocess_video(path):\n    cap = cv2.VideoCapture(path)\n    frames = []\n    while cap.isOpened():\n        ret, frame = cap.read()\n        if ret:\n            frame = cv2.resize(frame, (224, 224))\n            frame = image.img_to_array(frame)\n            frame = np.expand_dims(frame, axis=0)\n            frame = preprocess_input(frame)\n            frames.append(frame)\n        else:\n            break\n    cap.release()\n    video = np.concatenate(frames, axis=0)\n    return video\n\n# Video verilerini özelliklere dönüştürme\ndef extract_video_features(video):\n    model = VGG16(weights='imagenet', include_top=False)\n    model = Model(inputs=model.input, outputs=model.get_layer('block4_pool').output)\n    features = model.predict(video)\n    features = np.mean(features, axis=0)\n    features = features.flatten()\n    return features\n\n# Veri setindeki videoların özelliklerini çıkarma\nvideo_features = []\nfor path in data['video_paths']:\n    video = load_and_preprocess_video(path)\n    features = extract_video_features(video)\n    video_features.append(features)\n\n# Özellikleri birleştirme\nfeatures = np.concatenate((image_features, video_features), axis=1)\n\n# Eğitim ve test verilerini ayırma\nX_train, X_test, y_train, y_test = train_test_split(features, data['emotion'], test_size=0.2, random_state=42)\n\n# Sınıflandırma modelini eğitme\nmodel = LogisticRegression()\nmodel.fit(X_train, y_train)\n\n# Test verilerini kullanarak tahmin yapma\ny_pred = model.predict(X_test)\n\n# Sınıflandırma raporunu gösterme\nprint(classification_report(y_test, y_pred))\n",
      "metadata": {},
      "execution_count": null,
      "outputs": [],
      "id": "98f79c66-5c71-4df9-be04-0d2e3748f3ab"
    },
    {
      "cell_type": "markdown",
      "source": "3.4. Audio Analysis",
      "metadata": {},
      "id": "eefc94b8-0e6d-4e26-80cc-fc7abe831869"
    },
    {
      "cell_type": "code",
      "source": "# Gerekli kütüphaneleri yükleme\nimport pandas as pd\nimport librosa\nimport numpy as np\nfrom sklearn.model_selection import train_test_split\nfrom sklearn.linear_model import LogisticRegression\nfrom sklearn.metrics import classification_report\n\n# Veri setini yükleme\ndata = pd.read_csv('veri_seti.csv')\n\n# Ses dosyasını yükleme ve özellik çıkarma\ndef extract_audio_features(file_path):\n    # Ses dosyasını yükleme\n    audio, sr = librosa.load(file_path, duration=3)  # 3 saniyelik bir süreyle yükleme yapabilirsiniz\n    \n    # Ses özelliklerini çıkarma\n    features = []\n    \n    # MFCC özelliklerini çıkarmak için:\n    mfcc = librosa.feature.mfcc(audio, sr=sr)\n    features.append(np.mean(mfcc))\n    features.append(np.std(mfcc))\n    features.append(np.min(mfcc))\n    features.append(np.max(mfcc))\n    \n    \n    return features\n\n# Ses dosyalarının özelliklerini çıkarma\naudio_features = []\nfor path in data['audio_paths']:\n    features = extract_audio_features(path)\n    audio_features.append(features)\n\n# Özellikleri birleştirme\nfeatures = np.array(audio_features)\n\n# Eğitim ve test verilerini ayırma\nX_train, X_test, y_train, y_test = train_test_split(features, data['emotion'], test_size=0.2, random_state=42)\n\n# Sınıflandırma modelini eğitme\nmodel = LogisticRegression()\nmodel.fit(X_train, y_train)\n\n# Test verilerini kullanarak tahmin yapma\ny_pred = model.predict(X_test)\n\n# Sınıflandırma raporunu gösterme\nprint(classification_report(y_test, y_pred))\n",
      "metadata": {},
      "execution_count": null,
      "outputs": [],
      "id": "34d88555-7e3b-4e9e-a1c2-828ef17a9f6c"
    }
  ]
}